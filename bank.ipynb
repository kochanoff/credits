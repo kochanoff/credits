{
 "cells": [
  {
   "cell_type": "markdown",
   "metadata": {},
   "source": [
    "### Что тут вообще происдит\n",
    "\n",
    "Этот ноутбук появился, когда я вписался в ипотеку. До нее я никогда не платил кредитов с процентами, а только пользовался льготным периодом на кредитке, и поэтому не особо вообще понимал, как устроено начисление процентов. Появился повод разобраться и подумать \"вслух\". Основной вопрос, который меня волновал, и на который я сходу не нашел ответа в многочисленных кредитных калькуляторах в интернете, звучал так: \"А как быстро будет сокращаться ипотечный срок и обязательный платеж, если я буду гасить ипотеку досрочно, и вносить при этом не фиксированную сумму сверху (как сделано в большинстве калькуляторов), а N денег. Бонус вносится на **сокращение обязательного платежа** (не срока ипотеки)\" \n",
    "\n",
    "### Что происходит в коде\n",
    "\n",
    "Собственно, ничего сложного. Нам будут нужны две функции - одна будет высчитывать обязательный месячный платеж исходя из суммы долга, процентной ставки и срока кредита - в месяцах или годах. Делает это по упрощённой логике, по месяцам. В реальности банки насчитывают проценты по дням, это не влият на сумму платежа, но влияет на долю процентов в ежемесячном платеже (в зависмости от числа дней в месяце). Вторая функция расчитает нам график платежей в зависимости от того, как будем погашать кредит. График платежей выдает без последнего платежа.\n",
    "Есть несколько опций. Самая простая - не трогать параметры monthlyPayment и extraCash - тогда мы получим \"обычный\" грфик платежей. Можно задать число  extraCash > 0 и получить расчет для досрочного погашения каждый месяц на фиксированную дополнительную сумму (напоминаю, здесь мы считаем, что всё сверху идет на сокращение обязательного платежа). И, наконец, последний вариант, самый интересный - получить график платежей при условии, что мы сокращаем ежемесячный платеж, но все равно продолжаем платить фиксированную сумму. В параметр monthlyPayment указываем, какую именно. \n",
    "\n",
    "Полученную информацию мы потом выводим на графики и наглядно видим, как работают разные стратегии досрочного погашения"
   ]
  },
  {
   "cell_type": "code",
   "execution_count": 1,
   "metadata": {},
   "outputs": [],
   "source": [
    "import numpy as np\n",
    "import pandas as pd\n",
    "import matplotlib.pyplot as plt \n",
    "%matplotlib inline"
   ]
  },
  {
   "cell_type": "code",
   "execution_count": 3,
   "metadata": {},
   "outputs": [],
   "source": [
    "#no scientific notation in data frames please\n",
    "pd.set_option('display.float_format', lambda x: '%.3f' % x)"
   ]
  },
  {
   "cell_type": "code",
   "execution_count": 4,
   "metadata": {},
   "outputs": [],
   "source": [
    "def monthly_payment_calc(creditAmount, yearlyInterestRate, period, useYears=True):\n",
    "    '''\n",
    "    Simplified version of monthly mortgage calculator\n",
    "    !Real banks will use daily interst rate instead of monthly!\n",
    "    useYears - if True, trats period as years, months otherwise\n",
    "    '''\n",
    "    monthlyInterstRate = yearlyInterestRate/12\n",
    "    if useYears:\n",
    "        monthPeriod = period * 12\n",
    "    else: \n",
    "        monthPeriod = period\n",
    "    monthlyPayment = ( creditAmount * \n",
    "                    (monthlyInterstRate/(1 - (1 + monthlyInterstRate)**(-monthPeriod))) )\n",
    "    return monthlyPayment"
   ]
  },
  {
   "cell_type": "code",
   "execution_count": 5,
   "metadata": {},
   "outputs": [],
   "source": [
    "def payment_graph_calc(monthlyPayment = 'default', creditAmount=1000000, yearlyInterestRate=10, yearPeriod=10, extraCash = 0):\n",
    "    '''\n",
    "    produces data frame with monthly payments\n",
    "    '''\n",
    "    if monthlyPayment == 'default':\n",
    "        mp = True\n",
    "        monthlyPayment = monthly_payment_calc(creditAmount, yearlyInterestRate, yearPeriod)\n",
    "    else:\n",
    "        mp = False\n",
    "    monthlyInterstRate = yearlyInterestRate/12\n",
    "    monthPeriod = yearPeriod * 12\n",
    "    columnNames = ['MonthlyPayment','MonthlyPaymentObligatory', 'InterestPart', 'CreditPart', 'Remainder']\n",
    "    payment = pd.DataFrame(index = range(1,monthPeriod+1), columns = columnNames)\n",
    "    payment.loc[:, 'MonthlyPayment'] = monthlyPayment + extraCash\n",
    "    payment.loc[1, 'InterestPart'] = creditAmount * monthlyInterstRate\n",
    "    payment.loc[1, 'CreditPart'] = payment.loc[1, 'MonthlyPayment'] - payment.loc[1, 'InterestPart']\n",
    "    payment.loc[1, 'Remainder'] = creditAmount + payment.loc[1, 'InterestPart'] - payment.loc[1, 'MonthlyPayment']\n",
    "    payment.loc[1, 'MonthlyPaymentObligatory'] = monthly_payment_calc(creditAmount, yearlyInterestRate, \n",
    "                                                                      monthPeriod, useYears=False)\n",
    "    \n",
    "    for i in range(2, len(payment.index)+1):\n",
    "        payment.loc[i, 'MonthlyPaymentObligatory'] = monthly_payment_calc(payment.Remainder[i-1], yearlyInterestRate, \n",
    "                                                                          monthPeriod - i + 1,useYears=False)\n",
    "        if mp:\n",
    "            payment.loc[i:, 'MonthlyPayment'] = payment.loc[i, 'MonthlyPaymentObligatory'] + extraCash\n",
    "        payment.loc[i, 'InterestPart'] = payment.loc[i-1, 'Remainder'] * monthlyInterstRate\n",
    "        payment.loc[i, 'CreditPart'] = payment.loc[i, 'MonthlyPayment'] - payment.loc[i, 'InterestPart']\n",
    "        payment.loc[i, 'Remainder'] = payment.Remainder[i-1] + payment.InterestPart[i] - payment.MonthlyPayment[i]\n",
    "    return payment[payment.Remainder >= 0]"
   ]
  },
  {
   "cell_type": "markdown",
   "metadata": {},
   "source": [
    "Функции задали, давайте теперь посмотрим, как они работают! Начнем с простого, рассчитаем ежемесячный платеж для ипотеки в 6 000 000 с проценной ставкой в 8 процентов годовых и сроком в 15 лет. Это функция monthly_payment_calc"
   ]
  },
  {
   "cell_type": "code",
   "execution_count": 6,
   "metadata": {},
   "outputs": [],
   "source": [
    "amount = 6000000\n",
    "interest = 0.08\n",
    "period = 15"
   ]
  },
  {
   "cell_type": "code",
   "execution_count": 7,
   "metadata": {},
   "outputs": [
    {
     "name": "stdout",
     "output_type": "stream",
     "text": [
      "57339.12505982139\n"
     ]
    }
   ],
   "source": [
    "monthly_payments = monthly_payment_calc(amount, interest, period, useYears=True)\n",
    "print(monthly_payments)"
   ]
  },
  {
   "cell_type": "markdown",
   "metadata": {},
   "source": [
    "Можно ту же самую операцию повторить и с месячным сроком, главное не забыть выставить параметр useYears в False. Вот какой расчет будет для 14.5 лет (172 месяцев):"
   ]
  },
  {
   "cell_type": "code",
   "execution_count": 8,
   "metadata": {},
   "outputs": [
    {
     "data": {
      "text/plain": [
       "58728.977175195294"
      ]
     },
     "execution_count": 8,
     "metadata": {},
     "output_type": "execute_result"
    }
   ],
   "source": [
    "monthly_payment_calc(amount, interest, 172, useYears=False)"
   ]
  },
  {
   "cell_type": "markdown",
   "metadata": {},
   "source": [
    "Можно чуть-чуть поколдовать и посмотреть, как ежемесячный платеж будет меняться в зависимости от процентной ставки. dec_monthly - функция-декоратор, в которую удобно подсовывать разные значения процентной ставки про неизменных сумме и сроке. Посмотрим, как будет меняться ежемесячный платеж на разных процентных ставках, от 7.5% до 10%:"
   ]
  },
  {
   "cell_type": "code",
   "execution_count": 9,
   "metadata": {},
   "outputs": [],
   "source": [
    "def dec_monthly(x):\n",
    "    return monthly_payment_calc(amount,x,period)"
   ]
  },
  {
   "cell_type": "code",
   "execution_count": 10,
   "metadata": {},
   "outputs": [],
   "source": [
    "rates = np.round(np.arange(0.075,0.1,0.001),3) #список процентных ставок с шагом в 0.1%; round для удаления артефактов"
   ]
  },
  {
   "cell_type": "code",
   "execution_count": 11,
   "metadata": {},
   "outputs": [
    {
     "data": {
      "text/plain": [
       "[(55620.741600163856, 0.075),\n",
       " (55962.24610269144, 0.076),\n",
       " (56304.84047095689, 0.077),\n",
       " (56648.52094956618, 0.078),\n",
       " (56993.28375173694, 0.079),\n",
       " (57339.12505982139, 0.08),\n",
       " (57686.04102581479, 0.081),\n",
       " (58034.02777188148, 0.082),\n",
       " (58383.081390866624, 0.083),\n",
       " (58733.19794682501, 0.084),\n",
       " (59084.37347553561, 0.085),\n",
       " (59436.603985031645, 0.086),\n",
       " (59789.88545612213, 0.087),\n",
       " (60144.213842914374, 0.088),\n",
       " (60499.58507334648, 0.089),\n",
       " (60855.995049706864, 0.09),\n",
       " (61213.439649168366, 0.091),\n",
       " (61571.914724309085, 0.092),\n",
       " (61931.41610364704, 0.093),\n",
       " (62291.93959216146, 0.094),\n",
       " (62653.48097182753, 0.095),\n",
       " (63016.03600213781, 0.096),\n",
       " (63379.600420635834, 0.097),\n",
       " (63744.16994344108, 0.098),\n",
       " (64109.7402657738, 0.099),\n",
       " (64476.307062487074, 0.1)]"
      ]
     },
     "execution_count": 11,
     "metadata": {},
     "output_type": "execute_result"
    }
   ],
   "source": [
    "list(zip(list(map(dec_monthly,rates)),rates))"
   ]
  },
  {
   "cell_type": "markdown",
   "metadata": {},
   "source": [
    "При процентной ставке в 7.5% ежемесячный платеж будет 55620, а при 10% - 64476. Разница вроде бы и невелика, но вот ниже будет видно, насколько быстрее можно будет расправиться с кредитом по ставке в 7.5%, если платить каждый месяц чуть больше, хоть бы и те же 64476. "
   ]
  },
  {
   "cell_type": "markdown",
   "metadata": {},
   "source": [
    "установим ставку на 7.5%, cумму и срок оставим прежними, 6 000 000 и 15 лет соответственно:"
   ]
  },
  {
   "cell_type": "code",
   "execution_count": 12,
   "metadata": {},
   "outputs": [],
   "source": [
    "amount = 6000000\n",
    "interest = 0.075\n",
    "period = 15"
   ]
  },
  {
   "cell_type": "code",
   "execution_count": 13,
   "metadata": {},
   "outputs": [],
   "source": [
    "df_no_extra = payment_graph_calc(creditAmount=amount, yearlyInterestRate=interest,yearPeriod=period)"
   ]
  },
  {
   "cell_type": "markdown",
   "metadata": {},
   "source": [
    "Посмотрим сначала на кредитный график без досрочных погащений:"
   ]
  },
  {
   "cell_type": "code",
   "execution_count": 14,
   "metadata": {},
   "outputs": [
    {
     "data": {
      "text/html": [
       "<div>\n",
       "<style scoped>\n",
       "    .dataframe tbody tr th:only-of-type {\n",
       "        vertical-align: middle;\n",
       "    }\n",
       "\n",
       "    .dataframe tbody tr th {\n",
       "        vertical-align: top;\n",
       "    }\n",
       "\n",
       "    .dataframe thead th {\n",
       "        text-align: right;\n",
       "    }\n",
       "</style>\n",
       "<table border=\"1\" class=\"dataframe\">\n",
       "  <thead>\n",
       "    <tr style=\"text-align: right;\">\n",
       "      <th></th>\n",
       "      <th>MonthlyPayment</th>\n",
       "      <th>MonthlyPaymentObligatory</th>\n",
       "      <th>InterestPart</th>\n",
       "      <th>CreditPart</th>\n",
       "      <th>Remainder</th>\n",
       "    </tr>\n",
       "  </thead>\n",
       "  <tbody>\n",
       "    <tr>\n",
       "      <th>1</th>\n",
       "      <td>55620.742</td>\n",
       "      <td>55620.742</td>\n",
       "      <td>37500.000</td>\n",
       "      <td>18120.742</td>\n",
       "      <td>5981879.258</td>\n",
       "    </tr>\n",
       "    <tr>\n",
       "      <th>2</th>\n",
       "      <td>55620.742</td>\n",
       "      <td>55620.742</td>\n",
       "      <td>37386.745</td>\n",
       "      <td>18233.996</td>\n",
       "      <td>5963645.262</td>\n",
       "    </tr>\n",
       "    <tr>\n",
       "      <th>3</th>\n",
       "      <td>55620.742</td>\n",
       "      <td>55620.742</td>\n",
       "      <td>37272.783</td>\n",
       "      <td>18347.959</td>\n",
       "      <td>5945297.303</td>\n",
       "    </tr>\n",
       "    <tr>\n",
       "      <th>4</th>\n",
       "      <td>55620.742</td>\n",
       "      <td>55620.742</td>\n",
       "      <td>37158.108</td>\n",
       "      <td>18462.633</td>\n",
       "      <td>5926834.670</td>\n",
       "    </tr>\n",
       "    <tr>\n",
       "      <th>5</th>\n",
       "      <td>55620.742</td>\n",
       "      <td>55620.742</td>\n",
       "      <td>37042.717</td>\n",
       "      <td>18578.025</td>\n",
       "      <td>5908256.645</td>\n",
       "    </tr>\n",
       "  </tbody>\n",
       "</table>\n",
       "</div>"
      ],
      "text/plain": [
       "   MonthlyPayment MonthlyPaymentObligatory InterestPart CreditPart   Remainder\n",
       "1       55620.742                55620.742    37500.000  18120.742 5981879.258\n",
       "2       55620.742                55620.742    37386.745  18233.996 5963645.262\n",
       "3       55620.742                55620.742    37272.783  18347.959 5945297.303\n",
       "4       55620.742                55620.742    37158.108  18462.633 5926834.670\n",
       "5       55620.742                55620.742    37042.717  18578.025 5908256.645"
      ]
     },
     "execution_count": 14,
     "metadata": {},
     "output_type": "execute_result"
    }
   ],
   "source": [
    "df_no_extra.head()"
   ]
  },
  {
   "cell_type": "code",
   "execution_count": 15,
   "metadata": {},
   "outputs": [
    {
     "data": {
      "text/html": [
       "<div>\n",
       "<style scoped>\n",
       "    .dataframe tbody tr th:only-of-type {\n",
       "        vertical-align: middle;\n",
       "    }\n",
       "\n",
       "    .dataframe tbody tr th {\n",
       "        vertical-align: top;\n",
       "    }\n",
       "\n",
       "    .dataframe thead th {\n",
       "        text-align: right;\n",
       "    }\n",
       "</style>\n",
       "<table border=\"1\" class=\"dataframe\">\n",
       "  <thead>\n",
       "    <tr style=\"text-align: right;\">\n",
       "      <th></th>\n",
       "      <th>MonthlyPayment</th>\n",
       "      <th>MonthlyPaymentObligatory</th>\n",
       "      <th>InterestPart</th>\n",
       "      <th>CreditPart</th>\n",
       "      <th>Remainder</th>\n",
       "    </tr>\n",
       "  </thead>\n",
       "  <tbody>\n",
       "    <tr>\n",
       "      <th>176</th>\n",
       "      <td>55620.742</td>\n",
       "      <td>55620.742</td>\n",
       "      <td>1706.027</td>\n",
       "      <td>53914.714</td>\n",
       "      <td>219049.653</td>\n",
       "    </tr>\n",
       "    <tr>\n",
       "      <th>177</th>\n",
       "      <td>55620.742</td>\n",
       "      <td>55620.742</td>\n",
       "      <td>1369.060</td>\n",
       "      <td>54251.681</td>\n",
       "      <td>164797.972</td>\n",
       "    </tr>\n",
       "    <tr>\n",
       "      <th>178</th>\n",
       "      <td>55620.742</td>\n",
       "      <td>55620.742</td>\n",
       "      <td>1029.987</td>\n",
       "      <td>54590.754</td>\n",
       "      <td>110207.218</td>\n",
       "    </tr>\n",
       "    <tr>\n",
       "      <th>179</th>\n",
       "      <td>55620.742</td>\n",
       "      <td>55620.742</td>\n",
       "      <td>688.795</td>\n",
       "      <td>54931.946</td>\n",
       "      <td>55275.271</td>\n",
       "    </tr>\n",
       "    <tr>\n",
       "      <th>180</th>\n",
       "      <td>55620.742</td>\n",
       "      <td>55620.742</td>\n",
       "      <td>345.470</td>\n",
       "      <td>55275.271</td>\n",
       "      <td>0.000</td>\n",
       "    </tr>\n",
       "  </tbody>\n",
       "</table>\n",
       "</div>"
      ],
      "text/plain": [
       "     MonthlyPayment MonthlyPaymentObligatory InterestPart CreditPart  \\\n",
       "176       55620.742                55620.742     1706.027  53914.714   \n",
       "177       55620.742                55620.742     1369.060  54251.681   \n",
       "178       55620.742                55620.742     1029.987  54590.754   \n",
       "179       55620.742                55620.742      688.795  54931.946   \n",
       "180       55620.742                55620.742      345.470  55275.271   \n",
       "\n",
       "     Remainder  \n",
       "176 219049.653  \n",
       "177 164797.972  \n",
       "178 110207.218  \n",
       "179  55275.271  \n",
       "180      0.000  "
      ]
     },
     "execution_count": 15,
     "metadata": {},
     "output_type": "execute_result"
    }
   ],
   "source": [
    "df_no_extra.tail() #хвост"
   ]
  },
  {
   "cell_type": "markdown",
   "metadata": {},
   "source": [
    "Платить будем все 15 лет, общая переплата составит чуть больще 4 000 000"
   ]
  },
  {
   "cell_type": "code",
   "execution_count": 16,
   "metadata": {},
   "outputs": [
    {
     "data": {
      "text/plain": [
       "4011733.4880295894"
      ]
     },
     "execution_count": 16,
     "metadata": {},
     "output_type": "execute_result"
    }
   ],
   "source": [
    "df_no_extra['InterestPart'].sum()"
   ]
  },
  {
   "cell_type": "code",
   "execution_count": 17,
   "metadata": {},
   "outputs": [
    {
     "data": {
      "text/plain": [
       "<matplotlib.legend.Legend at 0x7fe462079d50>"
      ]
     },
     "execution_count": 17,
     "metadata": {},
     "output_type": "execute_result"
    },
    {
     "data": {
      "image/png": "[encoded data removed]",
      "text/plain": [
       "<Figure size 960x480 with 1 Axes>"
      ]
     },
     "metadata": {
      "needs_background": "light"
     },
     "output_type": "display_data"
    }
   ],
   "source": [
    "df1 = df_no_extra.copy()\n",
    "plt.figure(figsize=(12, 6), dpi=80)\n",
    "plt.style.use('ggplot')\n",
    "plt.xticks(np.arange(0, period*12, step=12))\n",
    "plt.plot(df1.index, df1.InterestPart, df1.CreditPart)\n",
    "plt.plot(df1.index, df1.MonthlyPaymentObligatory)\n",
    "plt.legend(['проценты', 'тело кредита', 'обязательный платеж'])"
   ]
  },
  {
   "cell_type": "markdown",
   "metadata": {},
   "source": [
    "На графике - ожидаемая картина. Доля процентов в платеже плавно сокращается, а доля основного долга - так же плавно растёт. Сам обязательный платеж (мы же не платим вперед!) во времени не меняется, а график растянут на 180 месяцев (15 лет).\n",
    "Площадь под красной линией - сумма переплаты. В наших интересах ее сокращать - и путём изменения основания (платить меньше), и путем изменения формы - чтобы линия была выгнута вниз"
   ]
  },
  {
   "cell_type": "markdown",
   "metadata": {},
   "source": [
    "Давайте теперь нарисуем такие же картиночки, но для дополнительных 10000 в месяц"
   ]
  },
  {
   "cell_type": "code",
   "execution_count": 18,
   "metadata": {},
   "outputs": [],
   "source": [
    "df_extra_10 = payment_graph_calc(creditAmount=amount, yearlyInterestRate=interest,yearPeriod=period, extraCash=10000)"
   ]
  },
  {
   "cell_type": "markdown",
   "metadata": {},
   "source": [
    "Посмотрим первые и последние строки графика. Срок не изменился, а вот сумма платежа (MonthlyPayment) под конец изрядно похудела..."
   ]
  },
  {
   "cell_type": "code",
   "execution_count": 19,
   "metadata": {},
   "outputs": [
    {
     "data": {
      "text/html": [
       "<div>\n",
       "<style scoped>\n",
       "    .dataframe tbody tr th:only-of-type {\n",
       "        vertical-align: middle;\n",
       "    }\n",
       "\n",
       "    .dataframe tbody tr th {\n",
       "        vertical-align: top;\n",
       "    }\n",
       "\n",
       "    .dataframe thead th {\n",
       "        text-align: right;\n",
       "    }\n",
       "</style>\n",
       "<table border=\"1\" class=\"dataframe\">\n",
       "  <thead>\n",
       "    <tr style=\"text-align: right;\">\n",
       "      <th></th>\n",
       "      <th>MonthlyPayment</th>\n",
       "      <th>MonthlyPaymentObligatory</th>\n",
       "      <th>InterestPart</th>\n",
       "      <th>CreditPart</th>\n",
       "      <th>Remainder</th>\n",
       "    </tr>\n",
       "  </thead>\n",
       "  <tbody>\n",
       "    <tr>\n",
       "      <th>1</th>\n",
       "      <td>65620.742</td>\n",
       "      <td>55620.742</td>\n",
       "      <td>37500.000</td>\n",
       "      <td>28120.742</td>\n",
       "      <td>5971879.258</td>\n",
       "    </tr>\n",
       "    <tr>\n",
       "      <th>2</th>\n",
       "      <td>65527.760</td>\n",
       "      <td>55527.760</td>\n",
       "      <td>37324.245</td>\n",
       "      <td>28203.514</td>\n",
       "      <td>5943675.744</td>\n",
       "    </tr>\n",
       "    <tr>\n",
       "      <th>3</th>\n",
       "      <td>65434.493</td>\n",
       "      <td>55434.493</td>\n",
       "      <td>37147.973</td>\n",
       "      <td>28286.520</td>\n",
       "      <td>5915389.224</td>\n",
       "    </tr>\n",
       "    <tr>\n",
       "      <th>4</th>\n",
       "      <td>65340.939</td>\n",
       "      <td>55340.939</td>\n",
       "      <td>36971.183</td>\n",
       "      <td>28369.756</td>\n",
       "      <td>5887019.468</td>\n",
       "    </tr>\n",
       "    <tr>\n",
       "      <th>5</th>\n",
       "      <td>65247.093</td>\n",
       "      <td>55247.093</td>\n",
       "      <td>36793.872</td>\n",
       "      <td>28453.222</td>\n",
       "      <td>5858566.246</td>\n",
       "    </tr>\n",
       "  </tbody>\n",
       "</table>\n",
       "</div>"
      ],
      "text/plain": [
       "   MonthlyPayment MonthlyPaymentObligatory InterestPart CreditPart   Remainder\n",
       "1       65620.742                55620.742    37500.000  28120.742 5971879.258\n",
       "2       65527.760                55527.760    37324.245  28203.514 5943675.744\n",
       "3       65434.493                55434.493    37147.973  28286.520 5915389.224\n",
       "4       65340.939                55340.939    36971.183  28369.756 5887019.468\n",
       "5       65247.093                55247.093    36793.872  28453.222 5858566.246"
      ]
     },
     "execution_count": 19,
     "metadata": {},
     "output_type": "execute_result"
    }
   ],
   "source": [
    "df_extra_10.head()"
   ]
  },
  {
   "cell_type": "code",
   "execution_count": 20,
   "metadata": {},
   "outputs": [
    {
     "data": {
      "text/html": [
       "<div>\n",
       "<style scoped>\n",
       "    .dataframe tbody tr th:only-of-type {\n",
       "        vertical-align: middle;\n",
       "    }\n",
       "\n",
       "    .dataframe tbody tr th {\n",
       "        vertical-align: top;\n",
       "    }\n",
       "\n",
       "    .dataframe thead th {\n",
       "        text-align: right;\n",
       "    }\n",
       "</style>\n",
       "<table border=\"1\" class=\"dataframe\">\n",
       "  <thead>\n",
       "    <tr style=\"text-align: right;\">\n",
       "      <th></th>\n",
       "      <th>MonthlyPayment</th>\n",
       "      <th>MonthlyPaymentObligatory</th>\n",
       "      <th>InterestPart</th>\n",
       "      <th>CreditPart</th>\n",
       "      <th>Remainder</th>\n",
       "    </tr>\n",
       "  </thead>\n",
       "  <tbody>\n",
       "    <tr>\n",
       "      <th>174</th>\n",
       "      <td>26420.252</td>\n",
       "      <td>16420.252</td>\n",
       "      <td>700.758</td>\n",
       "      <td>25719.494</td>\n",
       "      <td>86401.773</td>\n",
       "    </tr>\n",
       "    <tr>\n",
       "      <th>175</th>\n",
       "      <td>24716.937</td>\n",
       "      <td>14716.937</td>\n",
       "      <td>540.011</td>\n",
       "      <td>24176.926</td>\n",
       "      <td>62224.847</td>\n",
       "    </tr>\n",
       "    <tr>\n",
       "      <th>176</th>\n",
       "      <td>22679.282</td>\n",
       "      <td>12679.282</td>\n",
       "      <td>388.905</td>\n",
       "      <td>22290.376</td>\n",
       "      <td>39934.470</td>\n",
       "    </tr>\n",
       "    <tr>\n",
       "      <th>177</th>\n",
       "      <td>20140.098</td>\n",
       "      <td>10140.098</td>\n",
       "      <td>249.590</td>\n",
       "      <td>19890.507</td>\n",
       "      <td>20043.963</td>\n",
       "    </tr>\n",
       "    <tr>\n",
       "      <th>178</th>\n",
       "      <td>16765.011</td>\n",
       "      <td>6765.011</td>\n",
       "      <td>125.275</td>\n",
       "      <td>16639.736</td>\n",
       "      <td>3404.227</td>\n",
       "    </tr>\n",
       "  </tbody>\n",
       "</table>\n",
       "</div>"
      ],
      "text/plain": [
       "     MonthlyPayment MonthlyPaymentObligatory InterestPart CreditPart Remainder\n",
       "174       26420.252                16420.252      700.758  25719.494 86401.773\n",
       "175       24716.937                14716.937      540.011  24176.926 62224.847\n",
       "176       22679.282                12679.282      388.905  22290.376 39934.470\n",
       "177       20140.098                10140.098      249.590  19890.507 20043.963\n",
       "178       16765.011                 6765.011      125.275  16639.736  3404.227"
      ]
     },
     "execution_count": 20,
     "metadata": {},
     "output_type": "execute_result"
    }
   ],
   "source": [
    "df_extra_10.tail()"
   ]
  },
  {
   "cell_type": "markdown",
   "metadata": {},
   "source": [
    "Платить будем все те же 15 лет, общая переплата составит чуть больше 3 440 000"
   ]
  },
  {
   "cell_type": "code",
   "execution_count": 21,
   "metadata": {},
   "outputs": [
    {
     "data": {
      "text/plain": [
       "3440945.232278041"
      ]
     },
     "execution_count": 21,
     "metadata": {},
     "output_type": "execute_result"
    }
   ],
   "source": [
    "df_extra_10['InterestPart'].sum()"
   ]
  },
  {
   "cell_type": "code",
   "execution_count": 22,
   "metadata": {},
   "outputs": [
    {
     "data": {
      "text/plain": [
       "<matplotlib.legend.Legend at 0x7fe45ea4ff10>"
      ]
     },
     "execution_count": 22,
     "metadata": {},
     "output_type": "execute_result"
    },
    {
     "data": {
      "image/png": "[encoded data removed]",
      "text/plain": [
       "<Figure size 960x480 with 1 Axes>"
      ]
     },
     "metadata": {},
     "output_type": "display_data"
    }
   ],
   "source": [
    "df1 = df_extra_10.copy()\n",
    "plt.figure(figsize=(12, 6), dpi=80)\n",
    "plt.style.use('ggplot')\n",
    "plt.xticks(np.arange(0, period*12, step=12))\n",
    "plt.plot(df1.index, df1.InterestPart, df1.CreditPart)\n",
    "plt.plot(df1.index, df1.MonthlyPaymentObligatory, df1.MonthlyPayment)\n",
    "plt.legend(['проценты', 'тело кредита', 'обязательный платеж', 'реальный платеж'])"
   ]
  },
  {
   "cell_type": "markdown",
   "metadata": {},
   "source": [
    "При таком раскладе получилось немного сэкономить, а заодно и подстраховаться на случай неприятных перемен - дополнительные 10К резво снижают обязательный платеж. Если доход вдруг резко сократиться, то платить обязательной части придется меньше. \n",
    "\n",
    "А что будет, если мы будем гасить кредит более активно, и всю \"экономию\", полученную от сокрщения ежемесячного платежа, пустим туда же? \n",
    "Посмотрим, как изменится картина, если мы начнем наш 7.5% кредит платежом в 64476 (как если бы ставка была 10%)"
   ]
  },
  {
   "cell_type": "code",
   "execution_count": 23,
   "metadata": {},
   "outputs": [],
   "source": [
    "df_all_in = payment_graph_calc(monthlyPayment=64476, creditAmount=amount, yearlyInterestRate=interest,yearPeriod=period)"
   ]
  },
  {
   "cell_type": "markdown",
   "metadata": {},
   "source": [
    "Опа! график обрывается на 140 месяце, то есть кредит при таком подходе выплачен досрочно, менее чем за 12 лет"
   ]
  },
  {
   "cell_type": "code",
   "execution_count": 24,
   "metadata": {},
   "outputs": [
    {
     "data": {
      "text/html": [
       "<div>\n",
       "<style scoped>\n",
       "    .dataframe tbody tr th:only-of-type {\n",
       "        vertical-align: middle;\n",
       "    }\n",
       "\n",
       "    .dataframe tbody tr th {\n",
       "        vertical-align: top;\n",
       "    }\n",
       "\n",
       "    .dataframe thead th {\n",
       "        text-align: right;\n",
       "    }\n",
       "</style>\n",
       "<table border=\"1\" class=\"dataframe\">\n",
       "  <thead>\n",
       "    <tr style=\"text-align: right;\">\n",
       "      <th></th>\n",
       "      <th>MonthlyPayment</th>\n",
       "      <th>MonthlyPaymentObligatory</th>\n",
       "      <th>InterestPart</th>\n",
       "      <th>CreditPart</th>\n",
       "      <th>Remainder</th>\n",
       "    </tr>\n",
       "  </thead>\n",
       "  <tbody>\n",
       "    <tr>\n",
       "      <th>1</th>\n",
       "      <td>64476</td>\n",
       "      <td>55620.742</td>\n",
       "      <td>37500.000</td>\n",
       "      <td>26976.000</td>\n",
       "      <td>5973024.000</td>\n",
       "    </tr>\n",
       "    <tr>\n",
       "      <th>2</th>\n",
       "      <td>64476</td>\n",
       "      <td>55538.404</td>\n",
       "      <td>37331.400</td>\n",
       "      <td>27144.600</td>\n",
       "      <td>5945879.400</td>\n",
       "    </tr>\n",
       "    <tr>\n",
       "      <th>3</th>\n",
       "      <td>64476</td>\n",
       "      <td>55455.046</td>\n",
       "      <td>37161.746</td>\n",
       "      <td>27314.254</td>\n",
       "      <td>5918565.146</td>\n",
       "    </tr>\n",
       "    <tr>\n",
       "      <th>4</th>\n",
       "      <td>64476</td>\n",
       "      <td>55370.651</td>\n",
       "      <td>36991.032</td>\n",
       "      <td>27484.968</td>\n",
       "      <td>5891080.178</td>\n",
       "    </tr>\n",
       "    <tr>\n",
       "      <th>5</th>\n",
       "      <td>64476</td>\n",
       "      <td>55285.201</td>\n",
       "      <td>36819.251</td>\n",
       "      <td>27656.749</td>\n",
       "      <td>5863423.430</td>\n",
       "    </tr>\n",
       "  </tbody>\n",
       "</table>\n",
       "</div>"
      ],
      "text/plain": [
       "   MonthlyPayment MonthlyPaymentObligatory InterestPart CreditPart   Remainder\n",
       "1           64476                55620.742    37500.000  26976.000 5973024.000\n",
       "2           64476                55538.404    37331.400  27144.600 5945879.400\n",
       "3           64476                55455.046    37161.746  27314.254 5918565.146\n",
       "4           64476                55370.651    36991.032  27484.968 5891080.178\n",
       "5           64476                55285.201    36819.251  27656.749 5863423.430"
      ]
     },
     "execution_count": 24,
     "metadata": {},
     "output_type": "execute_result"
    }
   ],
   "source": [
    "df_all_in.head()"
   ]
  },
  {
   "cell_type": "code",
   "execution_count": 25,
   "metadata": {},
   "outputs": [
    {
     "data": {
      "text/html": [
       "<div>\n",
       "<style scoped>\n",
       "    .dataframe tbody tr th:only-of-type {\n",
       "        vertical-align: middle;\n",
       "    }\n",
       "\n",
       "    .dataframe tbody tr th {\n",
       "        vertical-align: top;\n",
       "    }\n",
       "\n",
       "    .dataframe thead th {\n",
       "        text-align: right;\n",
       "    }\n",
       "</style>\n",
       "<table border=\"1\" class=\"dataframe\">\n",
       "  <thead>\n",
       "    <tr style=\"text-align: right;\">\n",
       "      <th></th>\n",
       "      <th>MonthlyPayment</th>\n",
       "      <th>MonthlyPaymentObligatory</th>\n",
       "      <th>InterestPart</th>\n",
       "      <th>CreditPart</th>\n",
       "      <th>Remainder</th>\n",
       "    </tr>\n",
       "  </thead>\n",
       "  <tbody>\n",
       "    <tr>\n",
       "      <th>135</th>\n",
       "      <td>64476</td>\n",
       "      <td>9261.723</td>\n",
       "      <td>2307.947</td>\n",
       "      <td>62168.053</td>\n",
       "      <td>307103.487</td>\n",
       "    </tr>\n",
       "    <tr>\n",
       "      <th>136</th>\n",
       "      <td>64476</td>\n",
       "      <td>7850.312</td>\n",
       "      <td>1919.397</td>\n",
       "      <td>62556.603</td>\n",
       "      <td>244546.884</td>\n",
       "    </tr>\n",
       "    <tr>\n",
       "      <th>137</th>\n",
       "      <td>64476</td>\n",
       "      <td>6374.317</td>\n",
       "      <td>1528.418</td>\n",
       "      <td>62947.582</td>\n",
       "      <td>181599.302</td>\n",
       "    </tr>\n",
       "    <tr>\n",
       "      <th>138</th>\n",
       "      <td>64476</td>\n",
       "      <td>4829.231</td>\n",
       "      <td>1134.996</td>\n",
       "      <td>63341.004</td>\n",
       "      <td>118258.298</td>\n",
       "    </tr>\n",
       "    <tr>\n",
       "      <th>139</th>\n",
       "      <td>64476</td>\n",
       "      <td>3210.120</td>\n",
       "      <td>739.114</td>\n",
       "      <td>63736.886</td>\n",
       "      <td>54521.412</td>\n",
       "    </tr>\n",
       "  </tbody>\n",
       "</table>\n",
       "</div>"
      ],
      "text/plain": [
       "     MonthlyPayment MonthlyPaymentObligatory InterestPart CreditPart  \\\n",
       "135           64476                 9261.723     2307.947  62168.053   \n",
       "136           64476                 7850.312     1919.397  62556.603   \n",
       "137           64476                 6374.317     1528.418  62947.582   \n",
       "138           64476                 4829.231     1134.996  63341.004   \n",
       "139           64476                 3210.120      739.114  63736.886   \n",
       "\n",
       "     Remainder  \n",
       "135 307103.487  \n",
       "136 244546.884  \n",
       "137 181599.302  \n",
       "138 118258.298  \n",
       "139  54521.412  "
      ]
     },
     "execution_count": 25,
     "metadata": {},
     "output_type": "execute_result"
    }
   ],
   "source": [
    "df_all_in.tail()"
   ]
  },
  {
   "cell_type": "markdown",
   "metadata": {},
   "source": [
    "Общая переплата еще меньше, около 3017000"
   ]
  },
  {
   "cell_type": "code",
   "execution_count": 26,
   "metadata": {},
   "outputs": [
    {
     "data": {
      "text/plain": [
       "3016685.4121447774"
      ]
     },
     "execution_count": 26,
     "metadata": {},
     "output_type": "execute_result"
    }
   ],
   "source": [
    "df_all_in['InterestPart'].sum()"
   ]
  },
  {
   "cell_type": "code",
   "execution_count": 27,
   "metadata": {},
   "outputs": [
    {
     "data": {
      "text/plain": [
       "<matplotlib.legend.Legend at 0x7fe45ece4f50>"
      ]
     },
     "execution_count": 27,
     "metadata": {},
     "output_type": "execute_result"
    },
    {
     "data": {
      "image/png": "[encoded data removed]",
      "text/plain": [
       "<Figure size 960x480 with 1 Axes>"
      ]
     },
     "metadata": {},
     "output_type": "display_data"
    }
   ],
   "source": [
    "df1 = df_all_in.copy()\n",
    "plt.figure(figsize=(12, 6), dpi=80)\n",
    "plt.style.use('ggplot')\n",
    "plt.xticks(np.arange(0, period*12, step=12))\n",
    "plt.plot(df1.index, df1.InterestPart, df1.CreditPart)\n",
    "plt.plot(df1.index, df1.MonthlyPaymentObligatory, df1.MonthlyPayment)\n",
    "plt.legend(['проценты', 'тело кредита', 'обязательный платеж', 'реальный платеж'])"
   ]
  },
  {
   "cell_type": "markdown",
   "metadata": {},
   "source": [
    "Итак, если каждый месяц вносить одну и ту же сумму, направляя излишки на сокращение обязательного платежа, ипотеку мы выплатим за менее чем 12 лет, вместо ожидаемых 15. И в этом конкретном случае заплатим три миллиона рублей процентов, вместо четырёх, переплата сократится на 30%!\n",
    "\n",
    "А что будет, если мы ту же дополнительную сумму будем вносить на сокращение срока кредита? Давайте посчитаем. Тут я восрользовался [сторонним сервисом](https://calcus.ru/kreditnyj-kalkulyator-s-dosrochnym-pogasheniem?result=157005), благо такой расчёт умеют делать почти все онлайн-калькуляторы. \n",
    "\n",
    "Если в нашу гипотетическую ипотеку на 6 миллионов под 7.5% вкидывать каждый месяц по 64 476 рублей, то мы получим... Те же самые 140 месяцев и три миллиона процентов вместо четырёх! \n",
    "\n",
    "То есть при одинаковой сумме платежа, оба варианта (уменьшение платежа, уменьшение срока) досрочного погашения сводятся к одинаковой длительности и одинаковой переплате! Любопытно, что при этом каждый калькулятор считаем своим долгом сообщить пользователю, что выгоднее сокращать срок кредита. Я понимаю, из каких расчётов они показывают эту \"выгоду\". Но считаю, что её уж очень сложно почувствовать - большую часть кредита мне, как плательщику, глубоко пофигу, сколько там лет осталось платить - всё таки 10 или уже 9. А вот текущий размер обязательного платежа сказывается на моей реальности намного сильнее - в жизни бывают не только белые полосы, но и чёрные. И прилично сократившийся обязательный платеж в такие моменты будет как нельзя кстати - на графике выше видно, что через 4 года обязательный платеж уде меньше 50К, а через 7 становится меньше 40К. Такую выгоду от своих действий ощущать намного приятнее, чем эфемерное знание, что платить тебе **ту же самую** сумму нужно ещё не 7 лет, а 5. \n",
    "\n",
    "У меня на этом всё, надеюсь, вам было полезно, и вы узнали для себя что-то новое. Уж я так точно узнал. И картинки порисовал, и таблички попрограммировал, и грамотность финансовую прокачал! "
   ]
  },
  {
   "cell_type": "code",
   "execution_count": null,
   "metadata": {},
   "outputs": [],
   "source": []
  }
 ],
 "metadata": {
  "kernelspec": {
   "display_name": "Python 3",
   "language": "python",
   "name": "python3"
  },
  "language_info": {
   "codemirror_mode": {
    "name": "ipython",
    "version": 3
   },
   "file_extension": ".py",
   "mimetype": "text/x-python",
   "name": "python",
   "nbconvert_exporter": "python",
   "pygments_lexer": "ipython3",
   "version": "3.7.6"
  }
 },
 "nbformat": 4,
 "nbformat_minor": 4
}
